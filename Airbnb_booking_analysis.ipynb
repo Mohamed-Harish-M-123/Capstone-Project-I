{
  "nbformat": 4,
  "nbformat_minor": 0,
  "metadata": {
    "colab": {
      "provenance": [],
      "authorship_tag": "ABX9TyOaekUcimcLdGT49N5q8aiD",
      "include_colab_link": true
    },
    "kernelspec": {
      "name": "python3",
      "display_name": "Python 3"
    },
    "language_info": {
      "name": "python"
    }
  },
  "cells": [
    {
      "cell_type": "markdown",
      "metadata": {
        "id": "view-in-github",
        "colab_type": "text"
      },
      "source": [
        "<a href=\"https://colab.research.google.com/github/Mohamed-Harish-M-123/Capstone-Project-I/blob/main/Airbnb_booking_analysis.ipynb\" target=\"_parent\"><img src=\"https://colab.research.google.com/assets/colab-badge.svg\" alt=\"Open In Colab\"/></a>"
      ]
    },
    {
      "cell_type": "markdown",
      "source": [
        "## Project Name: Airbnb Booking Analysis\n",
        "\n",
        "Project Type: Exploratory Data Analysis (EDA)\n",
        "\n",
        "Contribution: Individual\n",
        "\n",
        "\n",
        "## Exploratory Data Analysis (EDA):\n",
        "Exploratory Data Analysis (EDA) is an approach to analysing data set to summarise their main characteristic, often with visual methods.\n",
        "\n",
        "Exploratory Data Analysis does two main things:\n",
        "\n",
        "1. It helps clean up a dataset.\n",
        "\n",
        "2. It gives you a better understanding of the variables and the relationships between them.\n",
        "\n",
        "\n",
        "## About Airbnb:\n",
        "Airbnb founders Joe Gebbia, Brian Chesky, and Nathan Blecharczyk developed the business in 2008. Initially, Gebbia and Chesky started off using their own place as a bed-and-breakfast to make a few extra bucks to pay rent. Airbnb does not own properties. It acts as an **intermediary between those who want to rent out space and those who are looking for space to rent.** Creating an account on Airbnb is free, and it is relatively simple. Airbnb has listings all over the map, from Savannah, Georgia, to Honolulu, Hawaii, to international listings. The service currently has more than **5.6 million listings in roughly 220 countries around the world.**\n",
        "\n",
        "\n",
        "##Problem Statement:\n",
        "\n",
        "###To perform Exploratory Data Analysis (EDA) for the Airbnb booking dataset in order to bring out the hidden insights and to discover key understandings such as:\n",
        "\n",
        "* Which is the most and least prefered location by the guest ?\n",
        "* Which is the most prefered host with minimum price ?\n",
        "* What are the hotels and its price in the most prefered location ?\n",
        "* Price analysis of room type ?\n",
        "* Which host has the highest_reviews per month ?\n",
        "* Find out top 5 host that has high charges for the minimum nights ?\n",
        "* Compare the number of hosts resides in 'Manhattan' and 'Brooklyn' ?\n",
        "\n",
        "###Objectives and Goals:\n",
        "\n",
        "* To perform data cleansing for the given dataset\n",
        "* To provide visualization to analyze and identify trends in the dataset.\n",
        "\n",
        "\n"
      ],
      "metadata": {
        "id": "ZwcsyU9vSQF6"
      }
    },
    {
      "cell_type": "markdown",
      "source": [
        "## First let's load our dataset - Airbnb NYC 2019\n"
      ],
      "metadata": {
        "id": "5kZAmGLciSDj"
      }
    },
    {
      "cell_type": "code",
      "source": [
        "# import the required python libraries and packages for our analysis\n",
        "import pandas as pd\n",
        "import numpy as np\n",
        "import matplotlib.pyplot as plt\n",
        "import seaborn as sns\n",
        "%matplotlib inline\n"
      ],
      "metadata": {
        "id": "mmbOLNpsItoE"
      },
      "execution_count": 2,
      "outputs": []
    },
    {
      "cell_type": "code",
      "source": [
        "# mounting drive in the colab\n",
        "\n",
        "from google.colab import drive\n",
        "drive.mount('/content/drive')"
      ],
      "metadata": {
        "id": "dA7hjj_pO227",
        "outputId": "a9fd42d0-a31b-44ec-fd2d-9ffa19195922",
        "colab": {
          "base_uri": "https://localhost:8080/"
        }
      },
      "execution_count": 3,
      "outputs": [
        {
          "output_type": "stream",
          "name": "stdout",
          "text": [
            "Mounted at /content/drive\n"
          ]
        }
      ]
    },
    {
      "cell_type": "code",
      "source": [
        "# Let's read the dataset from the drive\n",
        "\n",
        "file_path = \"/content/drive/MyDrive/dataset/Airbnb NYC 2019.csv\"\n",
        "airbnbDataFrame = pd.read_csv(file_path)"
      ],
      "metadata": {
        "id": "v77mmcIdS4nS"
      },
      "execution_count": 4,
      "outputs": []
    },
    {
      "cell_type": "markdown",
      "source": [
        "## Let's summarize our dataset\n",
        "Following procedures will gives you a better understanding and idea about our dataset."
      ],
      "metadata": {
        "id": "s1WIYNsHZqG4"
      }
    },
    {
      "cell_type": "code",
      "source": [
        "# Below method will gives you the first 5 records from your dataset\n",
        "\n",
        "airbnbDataFrame.head()"
      ],
      "metadata": {
        "id": "usrPKmCgz5Jg",
        "outputId": "c9760c31-581e-456b-b849-c973a9da04e3",
        "colab": {
          "base_uri": "https://localhost:8080/",
          "height": 461
        }
      },
      "execution_count": 5,
      "outputs": [
        {
          "output_type": "execute_result",
          "data": {
            "text/plain": [
              "     id                                              name  host_id  \\\n",
              "0  2539                Clean & quiet apt home by the park     2787   \n",
              "1  2595                             Skylit Midtown Castle     2845   \n",
              "2  3647               THE VILLAGE OF HARLEM....NEW YORK !     4632   \n",
              "3  3831                   Cozy Entire Floor of Brownstone     4869   \n",
              "4  5022  Entire Apt: Spacious Studio/Loft by central park     7192   \n",
              "\n",
              "     host_name neighbourhood_group neighbourhood  latitude  longitude  \\\n",
              "0         John            Brooklyn    Kensington  40.64749  -73.97237   \n",
              "1     Jennifer           Manhattan       Midtown  40.75362  -73.98377   \n",
              "2    Elisabeth           Manhattan        Harlem  40.80902  -73.94190   \n",
              "3  LisaRoxanne            Brooklyn  Clinton Hill  40.68514  -73.95976   \n",
              "4        Laura           Manhattan   East Harlem  40.79851  -73.94399   \n",
              "\n",
              "         room_type  price  minimum_nights  number_of_reviews last_review  \\\n",
              "0     Private room    149               1                  9  2018-10-19   \n",
              "1  Entire home/apt    225               1                 45  2019-05-21   \n",
              "2     Private room    150               3                  0         NaN   \n",
              "3  Entire home/apt     89               1                270  2019-07-05   \n",
              "4  Entire home/apt     80              10                  9  2018-11-19   \n",
              "\n",
              "   reviews_per_month  calculated_host_listings_count  availability_365  \n",
              "0               0.21                               6               365  \n",
              "1               0.38                               2               355  \n",
              "2                NaN                               1               365  \n",
              "3               4.64                               1               194  \n",
              "4               0.10                               1                 0  "
            ],
            "text/html": [
              "\n",
              "  <div id=\"df-4bae3602-3070-41d8-8ccc-0cfefb05705f\">\n",
              "    <div class=\"colab-df-container\">\n",
              "      <div>\n",
              "<style scoped>\n",
              "    .dataframe tbody tr th:only-of-type {\n",
              "        vertical-align: middle;\n",
              "    }\n",
              "\n",
              "    .dataframe tbody tr th {\n",
              "        vertical-align: top;\n",
              "    }\n",
              "\n",
              "    .dataframe thead th {\n",
              "        text-align: right;\n",
              "    }\n",
              "</style>\n",
              "<table border=\"1\" class=\"dataframe\">\n",
              "  <thead>\n",
              "    <tr style=\"text-align: right;\">\n",
              "      <th></th>\n",
              "      <th>id</th>\n",
              "      <th>name</th>\n",
              "      <th>host_id</th>\n",
              "      <th>host_name</th>\n",
              "      <th>neighbourhood_group</th>\n",
              "      <th>neighbourhood</th>\n",
              "      <th>latitude</th>\n",
              "      <th>longitude</th>\n",
              "      <th>room_type</th>\n",
              "      <th>price</th>\n",
              "      <th>minimum_nights</th>\n",
              "      <th>number_of_reviews</th>\n",
              "      <th>last_review</th>\n",
              "      <th>reviews_per_month</th>\n",
              "      <th>calculated_host_listings_count</th>\n",
              "      <th>availability_365</th>\n",
              "    </tr>\n",
              "  </thead>\n",
              "  <tbody>\n",
              "    <tr>\n",
              "      <th>0</th>\n",
              "      <td>2539</td>\n",
              "      <td>Clean &amp; quiet apt home by the park</td>\n",
              "      <td>2787</td>\n",
              "      <td>John</td>\n",
              "      <td>Brooklyn</td>\n",
              "      <td>Kensington</td>\n",
              "      <td>40.64749</td>\n",
              "      <td>-73.97237</td>\n",
              "      <td>Private room</td>\n",
              "      <td>149</td>\n",
              "      <td>1</td>\n",
              "      <td>9</td>\n",
              "      <td>2018-10-19</td>\n",
              "      <td>0.21</td>\n",
              "      <td>6</td>\n",
              "      <td>365</td>\n",
              "    </tr>\n",
              "    <tr>\n",
              "      <th>1</th>\n",
              "      <td>2595</td>\n",
              "      <td>Skylit Midtown Castle</td>\n",
              "      <td>2845</td>\n",
              "      <td>Jennifer</td>\n",
              "      <td>Manhattan</td>\n",
              "      <td>Midtown</td>\n",
              "      <td>40.75362</td>\n",
              "      <td>-73.98377</td>\n",
              "      <td>Entire home/apt</td>\n",
              "      <td>225</td>\n",
              "      <td>1</td>\n",
              "      <td>45</td>\n",
              "      <td>2019-05-21</td>\n",
              "      <td>0.38</td>\n",
              "      <td>2</td>\n",
              "      <td>355</td>\n",
              "    </tr>\n",
              "    <tr>\n",
              "      <th>2</th>\n",
              "      <td>3647</td>\n",
              "      <td>THE VILLAGE OF HARLEM....NEW YORK !</td>\n",
              "      <td>4632</td>\n",
              "      <td>Elisabeth</td>\n",
              "      <td>Manhattan</td>\n",
              "      <td>Harlem</td>\n",
              "      <td>40.80902</td>\n",
              "      <td>-73.94190</td>\n",
              "      <td>Private room</td>\n",
              "      <td>150</td>\n",
              "      <td>3</td>\n",
              "      <td>0</td>\n",
              "      <td>NaN</td>\n",
              "      <td>NaN</td>\n",
              "      <td>1</td>\n",
              "      <td>365</td>\n",
              "    </tr>\n",
              "    <tr>\n",
              "      <th>3</th>\n",
              "      <td>3831</td>\n",
              "      <td>Cozy Entire Floor of Brownstone</td>\n",
              "      <td>4869</td>\n",
              "      <td>LisaRoxanne</td>\n",
              "      <td>Brooklyn</td>\n",
              "      <td>Clinton Hill</td>\n",
              "      <td>40.68514</td>\n",
              "      <td>-73.95976</td>\n",
              "      <td>Entire home/apt</td>\n",
              "      <td>89</td>\n",
              "      <td>1</td>\n",
              "      <td>270</td>\n",
              "      <td>2019-07-05</td>\n",
              "      <td>4.64</td>\n",
              "      <td>1</td>\n",
              "      <td>194</td>\n",
              "    </tr>\n",
              "    <tr>\n",
              "      <th>4</th>\n",
              "      <td>5022</td>\n",
              "      <td>Entire Apt: Spacious Studio/Loft by central park</td>\n",
              "      <td>7192</td>\n",
              "      <td>Laura</td>\n",
              "      <td>Manhattan</td>\n",
              "      <td>East Harlem</td>\n",
              "      <td>40.79851</td>\n",
              "      <td>-73.94399</td>\n",
              "      <td>Entire home/apt</td>\n",
              "      <td>80</td>\n",
              "      <td>10</td>\n",
              "      <td>9</td>\n",
              "      <td>2018-11-19</td>\n",
              "      <td>0.10</td>\n",
              "      <td>1</td>\n",
              "      <td>0</td>\n",
              "    </tr>\n",
              "  </tbody>\n",
              "</table>\n",
              "</div>\n",
              "      <button class=\"colab-df-convert\" onclick=\"convertToInteractive('df-4bae3602-3070-41d8-8ccc-0cfefb05705f')\"\n",
              "              title=\"Convert this dataframe to an interactive table.\"\n",
              "              style=\"display:none;\">\n",
              "        \n",
              "  <svg xmlns=\"http://www.w3.org/2000/svg\" height=\"24px\"viewBox=\"0 0 24 24\"\n",
              "       width=\"24px\">\n",
              "    <path d=\"M0 0h24v24H0V0z\" fill=\"none\"/>\n",
              "    <path d=\"M18.56 5.44l.94 2.06.94-2.06 2.06-.94-2.06-.94-.94-2.06-.94 2.06-2.06.94zm-11 1L8.5 8.5l.94-2.06 2.06-.94-2.06-.94L8.5 2.5l-.94 2.06-2.06.94zm10 10l.94 2.06.94-2.06 2.06-.94-2.06-.94-.94-2.06-.94 2.06-2.06.94z\"/><path d=\"M17.41 7.96l-1.37-1.37c-.4-.4-.92-.59-1.43-.59-.52 0-1.04.2-1.43.59L10.3 9.45l-7.72 7.72c-.78.78-.78 2.05 0 2.83L4 21.41c.39.39.9.59 1.41.59.51 0 1.02-.2 1.41-.59l7.78-7.78 2.81-2.81c.8-.78.8-2.07 0-2.86zM5.41 20L4 18.59l7.72-7.72 1.47 1.35L5.41 20z\"/>\n",
              "  </svg>\n",
              "      </button>\n",
              "      \n",
              "  <style>\n",
              "    .colab-df-container {\n",
              "      display:flex;\n",
              "      flex-wrap:wrap;\n",
              "      gap: 12px;\n",
              "    }\n",
              "\n",
              "    .colab-df-convert {\n",
              "      background-color: #E8F0FE;\n",
              "      border: none;\n",
              "      border-radius: 50%;\n",
              "      cursor: pointer;\n",
              "      display: none;\n",
              "      fill: #1967D2;\n",
              "      height: 32px;\n",
              "      padding: 0 0 0 0;\n",
              "      width: 32px;\n",
              "    }\n",
              "\n",
              "    .colab-df-convert:hover {\n",
              "      background-color: #E2EBFA;\n",
              "      box-shadow: 0px 1px 2px rgba(60, 64, 67, 0.3), 0px 1px 3px 1px rgba(60, 64, 67, 0.15);\n",
              "      fill: #174EA6;\n",
              "    }\n",
              "\n",
              "    [theme=dark] .colab-df-convert {\n",
              "      background-color: #3B4455;\n",
              "      fill: #D2E3FC;\n",
              "    }\n",
              "\n",
              "    [theme=dark] .colab-df-convert:hover {\n",
              "      background-color: #434B5C;\n",
              "      box-shadow: 0px 1px 3px 1px rgba(0, 0, 0, 0.15);\n",
              "      filter: drop-shadow(0px 1px 2px rgba(0, 0, 0, 0.3));\n",
              "      fill: #FFFFFF;\n",
              "    }\n",
              "  </style>\n",
              "\n",
              "      <script>\n",
              "        const buttonEl =\n",
              "          document.querySelector('#df-4bae3602-3070-41d8-8ccc-0cfefb05705f button.colab-df-convert');\n",
              "        buttonEl.style.display =\n",
              "          google.colab.kernel.accessAllowed ? 'block' : 'none';\n",
              "\n",
              "        async function convertToInteractive(key) {\n",
              "          const element = document.querySelector('#df-4bae3602-3070-41d8-8ccc-0cfefb05705f');\n",
              "          const dataTable =\n",
              "            await google.colab.kernel.invokeFunction('convertToInteractive',\n",
              "                                                     [key], {});\n",
              "          if (!dataTable) return;\n",
              "\n",
              "          const docLinkHtml = 'Like what you see? Visit the ' +\n",
              "            '<a target=\"_blank\" href=https://colab.research.google.com/notebooks/data_table.ipynb>data table notebook</a>'\n",
              "            + ' to learn more about interactive tables.';\n",
              "          element.innerHTML = '';\n",
              "          dataTable['output_type'] = 'display_data';\n",
              "          await google.colab.output.renderOutput(dataTable, element);\n",
              "          const docLink = document.createElement('div');\n",
              "          docLink.innerHTML = docLinkHtml;\n",
              "          element.appendChild(docLink);\n",
              "        }\n",
              "      </script>\n",
              "    </div>\n",
              "  </div>\n",
              "  "
            ]
          },
          "metadata": {},
          "execution_count": 5
        }
      ]
    },
    {
      "cell_type": "code",
      "source": [
        "# info() method will gives us a better understanding about our columns in the dataset\n",
        "\n",
        "airbnbDataFrame.info()"
      ],
      "metadata": {
        "id": "dmmvCWJJ2Wc4",
        "outputId": "60d0ddc5-8e52-4338-bbbd-9b279681eaff",
        "colab": {
          "base_uri": "https://localhost:8080/"
        }
      },
      "execution_count": 6,
      "outputs": [
        {
          "output_type": "stream",
          "name": "stdout",
          "text": [
            "<class 'pandas.core.frame.DataFrame'>\n",
            "RangeIndex: 48895 entries, 0 to 48894\n",
            "Data columns (total 16 columns):\n",
            " #   Column                          Non-Null Count  Dtype  \n",
            "---  ------                          --------------  -----  \n",
            " 0   id                              48895 non-null  int64  \n",
            " 1   name                            48879 non-null  object \n",
            " 2   host_id                         48895 non-null  int64  \n",
            " 3   host_name                       48874 non-null  object \n",
            " 4   neighbourhood_group             48895 non-null  object \n",
            " 5   neighbourhood                   48895 non-null  object \n",
            " 6   latitude                        48895 non-null  float64\n",
            " 7   longitude                       48895 non-null  float64\n",
            " 8   room_type                       48895 non-null  object \n",
            " 9   price                           48895 non-null  int64  \n",
            " 10  minimum_nights                  48895 non-null  int64  \n",
            " 11  number_of_reviews               48895 non-null  int64  \n",
            " 12  last_review                     38843 non-null  object \n",
            " 13  reviews_per_month               38843 non-null  float64\n",
            " 14  calculated_host_listings_count  48895 non-null  int64  \n",
            " 15  availability_365                48895 non-null  int64  \n",
            "dtypes: float64(3), int64(7), object(6)\n",
            "memory usage: 6.0+ MB\n"
          ]
        }
      ]
    },
    {
      "cell_type": "code",
      "source": [
        "# This method will be applicable only for int and float dtype columns.\n",
        "# Also this will gives you more mathematical insights about your dataset.\n",
        "\n",
        "airbnbDataFrame.describe()"
      ],
      "metadata": {
        "id": "0gHg6BYB1eHs",
        "outputId": "9f9b4aa5-1c6e-4a13-982c-43038e1f3dcf",
        "colab": {
          "base_uri": "https://localhost:8080/",
          "height": 300
        }
      },
      "execution_count": 7,
      "outputs": [
        {
          "output_type": "execute_result",
          "data": {
            "text/plain": [
              "                 id       host_id      latitude     longitude         price  \\\n",
              "count  4.889500e+04  4.889500e+04  48895.000000  48895.000000  48895.000000   \n",
              "mean   1.901714e+07  6.762001e+07     40.728949    -73.952170    152.720687   \n",
              "std    1.098311e+07  7.861097e+07      0.054530      0.046157    240.154170   \n",
              "min    2.539000e+03  2.438000e+03     40.499790    -74.244420      0.000000   \n",
              "25%    9.471945e+06  7.822033e+06     40.690100    -73.983070     69.000000   \n",
              "50%    1.967728e+07  3.079382e+07     40.723070    -73.955680    106.000000   \n",
              "75%    2.915218e+07  1.074344e+08     40.763115    -73.936275    175.000000   \n",
              "max    3.648724e+07  2.743213e+08     40.913060    -73.712990  10000.000000   \n",
              "\n",
              "       minimum_nights  number_of_reviews  reviews_per_month  \\\n",
              "count    48895.000000       48895.000000       38843.000000   \n",
              "mean         7.029962          23.274466           1.373221   \n",
              "std         20.510550          44.550582           1.680442   \n",
              "min          1.000000           0.000000           0.010000   \n",
              "25%          1.000000           1.000000           0.190000   \n",
              "50%          3.000000           5.000000           0.720000   \n",
              "75%          5.000000          24.000000           2.020000   \n",
              "max       1250.000000         629.000000          58.500000   \n",
              "\n",
              "       calculated_host_listings_count  availability_365  \n",
              "count                    48895.000000      48895.000000  \n",
              "mean                         7.143982        112.781327  \n",
              "std                         32.952519        131.622289  \n",
              "min                          1.000000          0.000000  \n",
              "25%                          1.000000          0.000000  \n",
              "50%                          1.000000         45.000000  \n",
              "75%                          2.000000        227.000000  \n",
              "max                        327.000000        365.000000  "
            ],
            "text/html": [
              "\n",
              "  <div id=\"df-2165471d-bc22-49a1-96ed-9d493d7a41f7\">\n",
              "    <div class=\"colab-df-container\">\n",
              "      <div>\n",
              "<style scoped>\n",
              "    .dataframe tbody tr th:only-of-type {\n",
              "        vertical-align: middle;\n",
              "    }\n",
              "\n",
              "    .dataframe tbody tr th {\n",
              "        vertical-align: top;\n",
              "    }\n",
              "\n",
              "    .dataframe thead th {\n",
              "        text-align: right;\n",
              "    }\n",
              "</style>\n",
              "<table border=\"1\" class=\"dataframe\">\n",
              "  <thead>\n",
              "    <tr style=\"text-align: right;\">\n",
              "      <th></th>\n",
              "      <th>id</th>\n",
              "      <th>host_id</th>\n",
              "      <th>latitude</th>\n",
              "      <th>longitude</th>\n",
              "      <th>price</th>\n",
              "      <th>minimum_nights</th>\n",
              "      <th>number_of_reviews</th>\n",
              "      <th>reviews_per_month</th>\n",
              "      <th>calculated_host_listings_count</th>\n",
              "      <th>availability_365</th>\n",
              "    </tr>\n",
              "  </thead>\n",
              "  <tbody>\n",
              "    <tr>\n",
              "      <th>count</th>\n",
              "      <td>4.889500e+04</td>\n",
              "      <td>4.889500e+04</td>\n",
              "      <td>48895.000000</td>\n",
              "      <td>48895.000000</td>\n",
              "      <td>48895.000000</td>\n",
              "      <td>48895.000000</td>\n",
              "      <td>48895.000000</td>\n",
              "      <td>38843.000000</td>\n",
              "      <td>48895.000000</td>\n",
              "      <td>48895.000000</td>\n",
              "    </tr>\n",
              "    <tr>\n",
              "      <th>mean</th>\n",
              "      <td>1.901714e+07</td>\n",
              "      <td>6.762001e+07</td>\n",
              "      <td>40.728949</td>\n",
              "      <td>-73.952170</td>\n",
              "      <td>152.720687</td>\n",
              "      <td>7.029962</td>\n",
              "      <td>23.274466</td>\n",
              "      <td>1.373221</td>\n",
              "      <td>7.143982</td>\n",
              "      <td>112.781327</td>\n",
              "    </tr>\n",
              "    <tr>\n",
              "      <th>std</th>\n",
              "      <td>1.098311e+07</td>\n",
              "      <td>7.861097e+07</td>\n",
              "      <td>0.054530</td>\n",
              "      <td>0.046157</td>\n",
              "      <td>240.154170</td>\n",
              "      <td>20.510550</td>\n",
              "      <td>44.550582</td>\n",
              "      <td>1.680442</td>\n",
              "      <td>32.952519</td>\n",
              "      <td>131.622289</td>\n",
              "    </tr>\n",
              "    <tr>\n",
              "      <th>min</th>\n",
              "      <td>2.539000e+03</td>\n",
              "      <td>2.438000e+03</td>\n",
              "      <td>40.499790</td>\n",
              "      <td>-74.244420</td>\n",
              "      <td>0.000000</td>\n",
              "      <td>1.000000</td>\n",
              "      <td>0.000000</td>\n",
              "      <td>0.010000</td>\n",
              "      <td>1.000000</td>\n",
              "      <td>0.000000</td>\n",
              "    </tr>\n",
              "    <tr>\n",
              "      <th>25%</th>\n",
              "      <td>9.471945e+06</td>\n",
              "      <td>7.822033e+06</td>\n",
              "      <td>40.690100</td>\n",
              "      <td>-73.983070</td>\n",
              "      <td>69.000000</td>\n",
              "      <td>1.000000</td>\n",
              "      <td>1.000000</td>\n",
              "      <td>0.190000</td>\n",
              "      <td>1.000000</td>\n",
              "      <td>0.000000</td>\n",
              "    </tr>\n",
              "    <tr>\n",
              "      <th>50%</th>\n",
              "      <td>1.967728e+07</td>\n",
              "      <td>3.079382e+07</td>\n",
              "      <td>40.723070</td>\n",
              "      <td>-73.955680</td>\n",
              "      <td>106.000000</td>\n",
              "      <td>3.000000</td>\n",
              "      <td>5.000000</td>\n",
              "      <td>0.720000</td>\n",
              "      <td>1.000000</td>\n",
              "      <td>45.000000</td>\n",
              "    </tr>\n",
              "    <tr>\n",
              "      <th>75%</th>\n",
              "      <td>2.915218e+07</td>\n",
              "      <td>1.074344e+08</td>\n",
              "      <td>40.763115</td>\n",
              "      <td>-73.936275</td>\n",
              "      <td>175.000000</td>\n",
              "      <td>5.000000</td>\n",
              "      <td>24.000000</td>\n",
              "      <td>2.020000</td>\n",
              "      <td>2.000000</td>\n",
              "      <td>227.000000</td>\n",
              "    </tr>\n",
              "    <tr>\n",
              "      <th>max</th>\n",
              "      <td>3.648724e+07</td>\n",
              "      <td>2.743213e+08</td>\n",
              "      <td>40.913060</td>\n",
              "      <td>-73.712990</td>\n",
              "      <td>10000.000000</td>\n",
              "      <td>1250.000000</td>\n",
              "      <td>629.000000</td>\n",
              "      <td>58.500000</td>\n",
              "      <td>327.000000</td>\n",
              "      <td>365.000000</td>\n",
              "    </tr>\n",
              "  </tbody>\n",
              "</table>\n",
              "</div>\n",
              "      <button class=\"colab-df-convert\" onclick=\"convertToInteractive('df-2165471d-bc22-49a1-96ed-9d493d7a41f7')\"\n",
              "              title=\"Convert this dataframe to an interactive table.\"\n",
              "              style=\"display:none;\">\n",
              "        \n",
              "  <svg xmlns=\"http://www.w3.org/2000/svg\" height=\"24px\"viewBox=\"0 0 24 24\"\n",
              "       width=\"24px\">\n",
              "    <path d=\"M0 0h24v24H0V0z\" fill=\"none\"/>\n",
              "    <path d=\"M18.56 5.44l.94 2.06.94-2.06 2.06-.94-2.06-.94-.94-2.06-.94 2.06-2.06.94zm-11 1L8.5 8.5l.94-2.06 2.06-.94-2.06-.94L8.5 2.5l-.94 2.06-2.06.94zm10 10l.94 2.06.94-2.06 2.06-.94-2.06-.94-.94-2.06-.94 2.06-2.06.94z\"/><path d=\"M17.41 7.96l-1.37-1.37c-.4-.4-.92-.59-1.43-.59-.52 0-1.04.2-1.43.59L10.3 9.45l-7.72 7.72c-.78.78-.78 2.05 0 2.83L4 21.41c.39.39.9.59 1.41.59.51 0 1.02-.2 1.41-.59l7.78-7.78 2.81-2.81c.8-.78.8-2.07 0-2.86zM5.41 20L4 18.59l7.72-7.72 1.47 1.35L5.41 20z\"/>\n",
              "  </svg>\n",
              "      </button>\n",
              "      \n",
              "  <style>\n",
              "    .colab-df-container {\n",
              "      display:flex;\n",
              "      flex-wrap:wrap;\n",
              "      gap: 12px;\n",
              "    }\n",
              "\n",
              "    .colab-df-convert {\n",
              "      background-color: #E8F0FE;\n",
              "      border: none;\n",
              "      border-radius: 50%;\n",
              "      cursor: pointer;\n",
              "      display: none;\n",
              "      fill: #1967D2;\n",
              "      height: 32px;\n",
              "      padding: 0 0 0 0;\n",
              "      width: 32px;\n",
              "    }\n",
              "\n",
              "    .colab-df-convert:hover {\n",
              "      background-color: #E2EBFA;\n",
              "      box-shadow: 0px 1px 2px rgba(60, 64, 67, 0.3), 0px 1px 3px 1px rgba(60, 64, 67, 0.15);\n",
              "      fill: #174EA6;\n",
              "    }\n",
              "\n",
              "    [theme=dark] .colab-df-convert {\n",
              "      background-color: #3B4455;\n",
              "      fill: #D2E3FC;\n",
              "    }\n",
              "\n",
              "    [theme=dark] .colab-df-convert:hover {\n",
              "      background-color: #434B5C;\n",
              "      box-shadow: 0px 1px 3px 1px rgba(0, 0, 0, 0.15);\n",
              "      filter: drop-shadow(0px 1px 2px rgba(0, 0, 0, 0.3));\n",
              "      fill: #FFFFFF;\n",
              "    }\n",
              "  </style>\n",
              "\n",
              "      <script>\n",
              "        const buttonEl =\n",
              "          document.querySelector('#df-2165471d-bc22-49a1-96ed-9d493d7a41f7 button.colab-df-convert');\n",
              "        buttonEl.style.display =\n",
              "          google.colab.kernel.accessAllowed ? 'block' : 'none';\n",
              "\n",
              "        async function convertToInteractive(key) {\n",
              "          const element = document.querySelector('#df-2165471d-bc22-49a1-96ed-9d493d7a41f7');\n",
              "          const dataTable =\n",
              "            await google.colab.kernel.invokeFunction('convertToInteractive',\n",
              "                                                     [key], {});\n",
              "          if (!dataTable) return;\n",
              "\n",
              "          const docLinkHtml = 'Like what you see? Visit the ' +\n",
              "            '<a target=\"_blank\" href=https://colab.research.google.com/notebooks/data_table.ipynb>data table notebook</a>'\n",
              "            + ' to learn more about interactive tables.';\n",
              "          element.innerHTML = '';\n",
              "          dataTable['output_type'] = 'display_data';\n",
              "          await google.colab.output.renderOutput(dataTable, element);\n",
              "          const docLink = document.createElement('div');\n",
              "          docLink.innerHTML = docLinkHtml;\n",
              "          element.appendChild(docLink);\n",
              "        }\n",
              "      </script>\n",
              "    </div>\n",
              "  </div>\n",
              "  "
            ]
          },
          "metadata": {},
          "execution_count": 7
        }
      ]
    },
    {
      "cell_type": "code",
      "source": [
        "# Lets find the shape of our dataset in a simple way\n",
        "\n",
        "airbnbDataFrame.shape"
      ],
      "metadata": {
        "id": "Oc91zMko3F1J",
        "outputId": "78a35a10-2dac-4c36-d731-dfbe4e976253",
        "colab": {
          "base_uri": "https://localhost:8080/"
        }
      },
      "execution_count": 8,
      "outputs": [
        {
          "output_type": "execute_result",
          "data": {
            "text/plain": [
              "(48895, 16)"
            ]
          },
          "metadata": {},
          "execution_count": 8
        }
      ]
    },
    {
      "cell_type": "code",
      "source": [
        "# Lets check the columns containing null values in our dataset\n",
        "\n",
        "nullColumns = airbnbDataFrame.isnull().sum()\n",
        "print(nullColumns)\n",
        "\n",
        "\n",
        "#Lets print the total null values present in our dataset.\n",
        "\n",
        "totalNullCount = airbnbDataFrame.isnull().sum().sum()\n",
        "\n",
        "print(\"\\nTotal Null values count in our dataset is \",totalNullCount)"
      ],
      "metadata": {
        "id": "IOquJMjV9KUB",
        "outputId": "eefc9bd1-9d2a-4a0c-9049-e9c2d74e3062",
        "colab": {
          "base_uri": "https://localhost:8080/"
        }
      },
      "execution_count": 9,
      "outputs": [
        {
          "output_type": "stream",
          "name": "stdout",
          "text": [
            "id                                    0\n",
            "name                                 16\n",
            "host_id                               0\n",
            "host_name                            21\n",
            "neighbourhood_group                   0\n",
            "neighbourhood                         0\n",
            "latitude                              0\n",
            "longitude                             0\n",
            "room_type                             0\n",
            "price                                 0\n",
            "minimum_nights                        0\n",
            "number_of_reviews                     0\n",
            "last_review                       10052\n",
            "reviews_per_month                 10052\n",
            "calculated_host_listings_count        0\n",
            "availability_365                      0\n",
            "dtype: int64\n",
            "\n",
            "Total Null values count in our dataset is  20141\n"
          ]
        }
      ]
    },
    {
      "cell_type": "markdown",
      "source": [
        "##Observations:\n",
        "1. Our dataset contains 16 columns and 48895 rows.\n",
        "2. In that 3 columns were float, 7 columns were int, 6 columns were object dtype.\n",
        "3. Got the columns that contains null values and the total null count in our dataset.\n",
        "4. In addition to that, we also got some mathematical insights of our dataset.\n",
        "\n",
        "##Now let's do data cleaning to make our dataset more consistent"
      ],
      "metadata": {
        "id": "eCfWkO7I7zPw"
      }
    },
    {
      "cell_type": "code",
      "source": [
        "# Let's take a copy of our dataset, so that we have a backup of our original dataset\n",
        "\n",
        "airbnbCopy = airbnbDataFrame.copy()"
      ],
      "metadata": {
        "id": "ui73mjGwLBxe"
      },
      "execution_count": 10,
      "outputs": []
    },
    {
      "cell_type": "code",
      "source": [
        "# Let's replace all null value in \"name\" column to the value \"Not Mentioned\"\n",
        "\n",
        "airbnbCopy[\"name\"].fillna(\"Not Mentioned\", inplace = True)\n",
        "airbnbCopy[\"name\"].isnull().sum()"
      ],
      "metadata": {
        "id": "tShfl4mx7GfP",
        "outputId": "efd2431f-57ed-40f9-9cdb-b30472633eac",
        "colab": {
          "base_uri": "https://localhost:8080/"
        }
      },
      "execution_count": 11,
      "outputs": [
        {
          "output_type": "execute_result",
          "data": {
            "text/plain": [
              "0"
            ]
          },
          "metadata": {},
          "execution_count": 11
        }
      ]
    },
    {
      "cell_type": "code",
      "source": [
        "# Now replace all null values in \"host_name\" to \"Not Mentioned\"\n",
        "\n",
        "airbnbCopy[\"host_name\"].fillna(\"Not Mentioned\", inplace = True)\n",
        "airbnbCopy[\"host_name\"].isnull().sum()"
      ],
      "metadata": {
        "id": "D26-CQiSA4KU",
        "outputId": "e0b1b877-c608-4875-9e83-23a0c4beab5f",
        "colab": {
          "base_uri": "https://localhost:8080/"
        }
      },
      "execution_count": 12,
      "outputs": [
        {
          "output_type": "execute_result",
          "data": {
            "text/plain": [
              "0"
            ]
          },
          "metadata": {},
          "execution_count": 12
        }
      ]
    },
    {
      "cell_type": "code",
      "source": [
        "# Replacing null values in \"last_review\" to \"Not Mentioned\"\n",
        "\n",
        "airbnbCopy[\"last_review\"].fillna(\"Not Mentioned\", inplace = True)\n",
        "airbnbCopy[\"last_review\"].isnull().sum()"
      ],
      "metadata": {
        "id": "j935zFveEfPq",
        "outputId": "d4ff259c-5205-488a-f551-c7dce5b713a8",
        "colab": {
          "base_uri": "https://localhost:8080/"
        }
      },
      "execution_count": 13,
      "outputs": [
        {
          "output_type": "execute_result",
          "data": {
            "text/plain": [
              "0"
            ]
          },
          "metadata": {},
          "execution_count": 13
        }
      ]
    },
    {
      "cell_type": "code",
      "source": [
        "# Let's replace null values in \"review_per_month\" to 0\n",
        "\n",
        "airbnbCopy[\"reviews_per_month\"].fillna(0, inplace = True)\n",
        "airbnbCopy[\"reviews_per_month\"].isnull().sum()"
      ],
      "metadata": {
        "id": "DXlwfM6GFTnl",
        "outputId": "5bd0cb3b-7df6-43b3-e416-9d06cacb9129",
        "colab": {
          "base_uri": "https://localhost:8080/"
        }
      },
      "execution_count": 14,
      "outputs": [
        {
          "output_type": "execute_result",
          "data": {
            "text/plain": [
              "0"
            ]
          },
          "metadata": {},
          "execution_count": 14
        }
      ]
    },
    {
      "cell_type": "code",
      "source": [
        "#Now let's check once again the overall null values in our data frame\n",
        "\n",
        "airbnbCopy.isnull().sum()"
      ],
      "metadata": {
        "id": "5lBlk0DWF3Xw",
        "outputId": "aedcca8e-623b-42d1-ec0b-85ab0efea8f5",
        "colab": {
          "base_uri": "https://localhost:8080/"
        }
      },
      "execution_count": 15,
      "outputs": [
        {
          "output_type": "execute_result",
          "data": {
            "text/plain": [
              "id                                0\n",
              "name                              0\n",
              "host_id                           0\n",
              "host_name                         0\n",
              "neighbourhood_group               0\n",
              "neighbourhood                     0\n",
              "latitude                          0\n",
              "longitude                         0\n",
              "room_type                         0\n",
              "price                             0\n",
              "minimum_nights                    0\n",
              "number_of_reviews                 0\n",
              "last_review                       0\n",
              "reviews_per_month                 0\n",
              "calculated_host_listings_count    0\n",
              "availability_365                  0\n",
              "dtype: int64"
            ]
          },
          "metadata": {},
          "execution_count": 15
        }
      ]
    },
    {
      "cell_type": "markdown",
      "source": [
        "##Let's find solutions for our problem statements."
      ],
      "metadata": {
        "id": "rpRHusnCD9c4"
      }
    },
    {
      "cell_type": "markdown",
      "source": [
        "###Top three locations having more number of hosts\n"
      ],
      "metadata": {
        "id": "wpRvp8mBE9z0"
      }
    },
    {
      "cell_type": "code",
      "source": [
        "# Now count the occurence of each neighbourhood_group in our dataset\n",
        "\n",
        "neighbourhood_groupOccurence = airbnbCopy[\"neighbourhood_group\"].value_counts()\n",
        "\n",
        "print(neighbourhood_groupOccurence)"
      ],
      "metadata": {
        "id": "3yKIibK9O-h_",
        "outputId": "ed1c67b6-fe79-479b-b9e3-3477256eef78",
        "colab": {
          "base_uri": "https://localhost:8080/"
        }
      },
      "execution_count": 16,
      "outputs": [
        {
          "output_type": "stream",
          "name": "stdout",
          "text": [
            "Manhattan        21661\n",
            "Brooklyn         20104\n",
            "Queens            5666\n",
            "Bronx             1091\n",
            "Staten Island      373\n",
            "Name: neighbourhood_group, dtype: int64\n"
          ]
        }
      ]
    },
    {
      "cell_type": "code",
      "source": [
        "neighbourhoodCount = sns.countplot(x ='neighbourhood_group', color = 'gray', data = airbnbCopy)\n",
        "neighbourhoodCount.set_title('Share of Neighborhood')\n",
        "plt.show()"
      ],
      "metadata": {
        "id": "5O5PoP30SeO0",
        "outputId": "9db23e31-b687-4eb4-ed9a-55d093e19cce",
        "colab": {
          "base_uri": "https://localhost:8080/",
          "height": 296
        }
      },
      "execution_count": 17,
      "outputs": [
        {
          "output_type": "display_data",
          "data": {
            "text/plain": [
              "<Figure size 432x288 with 1 Axes>"
            ],
            "image/png": "[encoded data removed]"
          },
          "metadata": {
            "needs_background": "light"
          }
        }
      ]
    },
    {
      "cell_type": "markdown",
      "source": [
        "###Top 10 most reviewed hosts in Airbnb NYC"
      ],
      "metadata": {
        "id": "Gite5StEN25t"
      }
    },
    {
      "cell_type": "code",
      "source": [
        "# Here we will sort our data frame by 'number_of_reviews' columns in descending order.\n",
        "# Print the top 10 entries with the required columns.\n",
        "\n",
        "most_reviewed_hosts = airbnbCopy.sort_values(by = ['number_of_reviews'], ascending = False)\n",
        "\n",
        "top_hosts = most_reviewed_hosts[['name', 'host_id', 'neighbourhood_group', 'number_of_reviews', 'room_type']]\n",
        "\n",
        "top_10_hosts = top_hosts.head(10)\n",
        "\n",
        "top_10_hosts"
      ],
      "metadata": {
        "id": "oWD88t-VOGya",
        "outputId": "1e468006-4971-44ac-aadd-6212fdd9f69f",
        "colab": {
          "base_uri": "https://localhost:8080/",
          "height": 363
        }
      },
      "execution_count": 18,
      "outputs": [
        {
          "output_type": "execute_result",
          "data": {
            "text/plain": [
              "                                                    name   host_id  \\\n",
              "11759                            Room near JFK Queen Bed  47621202   \n",
              "2031                          Great Bedroom in Manhattan   4734398   \n",
              "2030                      Beautiful Bedroom in Manhattan   4734398   \n",
              "2015                        Private Bedroom in Manhattan   4734398   \n",
              "13495                            Room Near JFK Twin Beds  47621202   \n",
              "10623                  Steps away from Laguardia airport  37312959   \n",
              "1879            Manhattan Lux Loft.Like.Love.Lots.Look !   2369681   \n",
              "20403  Cozy Room Family Home LGA Airport NO CLEANING FEE  26432133   \n",
              "4870                  Private brownstone studio Brooklyn  12949460   \n",
              "471                      LG Private Room/Family Friendly    792159   \n",
              "\n",
              "      neighbourhood_group  number_of_reviews        room_type  \n",
              "11759              Queens                629     Private room  \n",
              "2031            Manhattan                607     Private room  \n",
              "2030            Manhattan                597     Private room  \n",
              "2015            Manhattan                594     Private room  \n",
              "13495              Queens                576     Private room  \n",
              "10623              Queens                543     Private room  \n",
              "1879            Manhattan                540     Private room  \n",
              "20403              Queens                510     Private room  \n",
              "4870             Brooklyn                488  Entire home/apt  \n",
              "471              Brooklyn                480     Private room  "
            ],
            "text/html": [
              "\n",
              "  <div id=\"df-442dc51d-aad5-437d-aca0-cf493481e3c3\">\n",
              "    <div class=\"colab-df-container\">\n",
              "      <div>\n",
              "<style scoped>\n",
              "    .dataframe tbody tr th:only-of-type {\n",
              "        vertical-align: middle;\n",
              "    }\n",
              "\n",
              "    .dataframe tbody tr th {\n",
              "        vertical-align: top;\n",
              "    }\n",
              "\n",
              "    .dataframe thead th {\n",
              "        text-align: right;\n",
              "    }\n",
              "</style>\n",
              "<table border=\"1\" class=\"dataframe\">\n",
              "  <thead>\n",
              "    <tr style=\"text-align: right;\">\n",
              "      <th></th>\n",
              "      <th>name</th>\n",
              "      <th>host_id</th>\n",
              "      <th>neighbourhood_group</th>\n",
              "      <th>number_of_reviews</th>\n",
              "      <th>room_type</th>\n",
              "    </tr>\n",
              "  </thead>\n",
              "  <tbody>\n",
              "    <tr>\n",
              "      <th>11759</th>\n",
              "      <td>Room near JFK Queen Bed</td>\n",
              "      <td>47621202</td>\n",
              "      <td>Queens</td>\n",
              "      <td>629</td>\n",
              "      <td>Private room</td>\n",
              "    </tr>\n",
              "    <tr>\n",
              "      <th>2031</th>\n",
              "      <td>Great Bedroom in Manhattan</td>\n",
              "      <td>4734398</td>\n",
              "      <td>Manhattan</td>\n",
              "      <td>607</td>\n",
              "      <td>Private room</td>\n",
              "    </tr>\n",
              "    <tr>\n",
              "      <th>2030</th>\n",
              "      <td>Beautiful Bedroom in Manhattan</td>\n",
              "      <td>4734398</td>\n",
              "      <td>Manhattan</td>\n",
              "      <td>597</td>\n",
              "      <td>Private room</td>\n",
              "    </tr>\n",
              "    <tr>\n",
              "      <th>2015</th>\n",
              "      <td>Private Bedroom in Manhattan</td>\n",
              "      <td>4734398</td>\n",
              "      <td>Manhattan</td>\n",
              "      <td>594</td>\n",
              "      <td>Private room</td>\n",
              "    </tr>\n",
              "    <tr>\n",
              "      <th>13495</th>\n",
              "      <td>Room Near JFK Twin Beds</td>\n",
              "      <td>47621202</td>\n",
              "      <td>Queens</td>\n",
              "      <td>576</td>\n",
              "      <td>Private room</td>\n",
              "    </tr>\n",
              "    <tr>\n",
              "      <th>10623</th>\n",
              "      <td>Steps away from Laguardia airport</td>\n",
              "      <td>37312959</td>\n",
              "      <td>Queens</td>\n",
              "      <td>543</td>\n",
              "      <td>Private room</td>\n",
              "    </tr>\n",
              "    <tr>\n",
              "      <th>1879</th>\n",
              "      <td>Manhattan Lux Loft.Like.Love.Lots.Look !</td>\n",
              "      <td>2369681</td>\n",
              "      <td>Manhattan</td>\n",
              "      <td>540</td>\n",
              "      <td>Private room</td>\n",
              "    </tr>\n",
              "    <tr>\n",
              "      <th>20403</th>\n",
              "      <td>Cozy Room Family Home LGA Airport NO CLEANING FEE</td>\n",
              "      <td>26432133</td>\n",
              "      <td>Queens</td>\n",
              "      <td>510</td>\n",
              "      <td>Private room</td>\n",
              "    </tr>\n",
              "    <tr>\n",
              "      <th>4870</th>\n",
              "      <td>Private brownstone studio Brooklyn</td>\n",
              "      <td>12949460</td>\n",
              "      <td>Brooklyn</td>\n",
              "      <td>488</td>\n",
              "      <td>Entire home/apt</td>\n",
              "    </tr>\n",
              "    <tr>\n",
              "      <th>471</th>\n",
              "      <td>LG Private Room/Family Friendly</td>\n",
              "      <td>792159</td>\n",
              "      <td>Brooklyn</td>\n",
              "      <td>480</td>\n",
              "      <td>Private room</td>\n",
              "    </tr>\n",
              "  </tbody>\n",
              "</table>\n",
              "</div>\n",
              "      <button class=\"colab-df-convert\" onclick=\"convertToInteractive('df-442dc51d-aad5-437d-aca0-cf493481e3c3')\"\n",
              "              title=\"Convert this dataframe to an interactive table.\"\n",
              "              style=\"display:none;\">\n",
              "        \n",
              "  <svg xmlns=\"http://www.w3.org/2000/svg\" height=\"24px\"viewBox=\"0 0 24 24\"\n",
              "       width=\"24px\">\n",
              "    <path d=\"M0 0h24v24H0V0z\" fill=\"none\"/>\n",
              "    <path d=\"M18.56 5.44l.94 2.06.94-2.06 2.06-.94-2.06-.94-.94-2.06-.94 2.06-2.06.94zm-11 1L8.5 8.5l.94-2.06 2.06-.94-2.06-.94L8.5 2.5l-.94 2.06-2.06.94zm10 10l.94 2.06.94-2.06 2.06-.94-2.06-.94-.94-2.06-.94 2.06-2.06.94z\"/><path d=\"M17.41 7.96l-1.37-1.37c-.4-.4-.92-.59-1.43-.59-.52 0-1.04.2-1.43.59L10.3 9.45l-7.72 7.72c-.78.78-.78 2.05 0 2.83L4 21.41c.39.39.9.59 1.41.59.51 0 1.02-.2 1.41-.59l7.78-7.78 2.81-2.81c.8-.78.8-2.07 0-2.86zM5.41 20L4 18.59l7.72-7.72 1.47 1.35L5.41 20z\"/>\n",
              "  </svg>\n",
              "      </button>\n",
              "      \n",
              "  <style>\n",
              "    .colab-df-container {\n",
              "      display:flex;\n",
              "      flex-wrap:wrap;\n",
              "      gap: 12px;\n",
              "    }\n",
              "\n",
              "    .colab-df-convert {\n",
              "      background-color: #E8F0FE;\n",
              "      border: none;\n",
              "      border-radius: 50%;\n",
              "      cursor: pointer;\n",
              "      display: none;\n",
              "      fill: #1967D2;\n",
              "      height: 32px;\n",
              "      padding: 0 0 0 0;\n",
              "      width: 32px;\n",
              "    }\n",
              "\n",
              "    .colab-df-convert:hover {\n",
              "      background-color: #E2EBFA;\n",
              "      box-shadow: 0px 1px 2px rgba(60, 64, 67, 0.3), 0px 1px 3px 1px rgba(60, 64, 67, 0.15);\n",
              "      fill: #174EA6;\n",
              "    }\n",
              "\n",
              "    [theme=dark] .colab-df-convert {\n",
              "      background-color: #3B4455;\n",
              "      fill: #D2E3FC;\n",
              "    }\n",
              "\n",
              "    [theme=dark] .colab-df-convert:hover {\n",
              "      background-color: #434B5C;\n",
              "      box-shadow: 0px 1px 3px 1px rgba(0, 0, 0, 0.15);\n",
              "      filter: drop-shadow(0px 1px 2px rgba(0, 0, 0, 0.3));\n",
              "      fill: #FFFFFF;\n",
              "    }\n",
              "  </style>\n",
              "\n",
              "      <script>\n",
              "        const buttonEl =\n",
              "          document.querySelector('#df-442dc51d-aad5-437d-aca0-cf493481e3c3 button.colab-df-convert');\n",
              "        buttonEl.style.display =\n",
              "          google.colab.kernel.accessAllowed ? 'block' : 'none';\n",
              "\n",
              "        async function convertToInteractive(key) {\n",
              "          const element = document.querySelector('#df-442dc51d-aad5-437d-aca0-cf493481e3c3');\n",
              "          const dataTable =\n",
              "            await google.colab.kernel.invokeFunction('convertToInteractive',\n",
              "                                                     [key], {});\n",
              "          if (!dataTable) return;\n",
              "\n",
              "          const docLinkHtml = 'Like what you see? Visit the ' +\n",
              "            '<a target=\"_blank\" href=https://colab.research.google.com/notebooks/data_table.ipynb>data table notebook</a>'\n",
              "            + ' to learn more about interactive tables.';\n",
              "          element.innerHTML = '';\n",
              "          dataTable['output_type'] = 'display_data';\n",
              "          await google.colab.output.renderOutput(dataTable, element);\n",
              "          const docLink = document.createElement('div');\n",
              "          docLink.innerHTML = docLinkHtml;\n",
              "          element.appendChild(docLink);\n",
              "        }\n",
              "      </script>\n",
              "    </div>\n",
              "  </div>\n",
              "  "
            ]
          },
          "metadata": {},
          "execution_count": 18
        }
      ]
    },
    {
      "cell_type": "code",
      "source": [
        "# Let's visualize it through a Pie chart for better understandings.\n",
        "\n",
        "top_10_hosts.groupby(['neighbourhood_group']).sum().plot(kind='pie', y='number_of_reviews', title='Most reviewed Neighbourhood Group in Top 10', figsize=(10,12), autopct='%1.0f%%')"
      ],
      "metadata": {
        "id": "z6c9njsIOMEW",
        "outputId": "473281b1-725f-48bb-965d-c875f167c4a3",
        "colab": {
          "base_uri": "https://localhost:8080/",
          "height": 622
        }
      },
      "execution_count": 19,
      "outputs": [
        {
          "output_type": "execute_result",
          "data": {
            "text/plain": [
              "<matplotlib.axes._subplots.AxesSubplot at 0x7fd21b3a3c10>"
            ]
          },
          "metadata": {},
          "execution_count": 19
        },
        {
          "output_type": "display_data",
          "data": {
            "text/plain": [
              "<Figure size 720x864 with 1 Axes>"
            ],
            "image/png": "[encoded data removed]"
          },
          "metadata": {}
        }
      ]
    },
    {
      "cell_type": "code",
      "source": [
        "#Let visualize the location of hosts using the longitude and latitude data\n",
        "#Scatter plot will helps in visualizing multiple data points and grouping\n",
        "\n",
        "plt.figure(figsize=(10,6))\n",
        "\n",
        "sns.scatterplot(x=airbnbCopy.longitude, y=airbnbCopy.latitude, hue=airbnbCopy.neighbourhood_group)"
      ],
      "metadata": {
        "id": "tJUlgqgEoSLt",
        "outputId": "0d06509a-9fa5-4b43-b5df-5ea1c4222bde",
        "colab": {
          "base_uri": "https://localhost:8080/",
          "height": 405
        }
      },
      "execution_count": 20,
      "outputs": [
        {
          "output_type": "execute_result",
          "data": {
            "text/plain": [
              "<matplotlib.axes._subplots.AxesSubplot at 0x7fd21b3273d0>"
            ]
          },
          "metadata": {},
          "execution_count": 20
        },
        {
          "output_type": "display_data",
          "data": {
            "text/plain": [
              "<Figure size 720x432 with 1 Axes>"
            ],
            "image/png": "[encoded data removed]"
          },
          "metadata": {
            "needs_background": "light"
          }
        }
      ]
    },
    {
      "cell_type": "markdown",
      "source": [
        "###Count analysis on Room types in different neighbourhood groups in NYC"
      ],
      "metadata": {
        "id": "_YIqDdqpO3jW"
      }
    },
    {
      "cell_type": "code",
      "source": [
        "# Let's count the host's room type in all the neighbourhood groups\n",
        "\n",
        "room_type_count = airbnbCopy.groupby(['neighbourhood_group', 'room_type'])['room_type'].count()\n",
        "\n",
        "print(room_type_count)"
      ],
      "metadata": {
        "id": "8pSo08lLPD04",
        "outputId": "953417fa-b685-49d9-878a-a4404cc06678",
        "colab": {
          "base_uri": "https://localhost:8080/"
        }
      },
      "execution_count": 21,
      "outputs": [
        {
          "output_type": "stream",
          "name": "stdout",
          "text": [
            "neighbourhood_group  room_type      \n",
            "Bronx                Entire home/apt      379\n",
            "                     Private room         652\n",
            "                     Shared room           60\n",
            "Brooklyn             Entire home/apt     9559\n",
            "                     Private room       10132\n",
            "                     Shared room          413\n",
            "Manhattan            Entire home/apt    13199\n",
            "                     Private room        7982\n",
            "                     Shared room          480\n",
            "Queens               Entire home/apt     2096\n",
            "                     Private room        3372\n",
            "                     Shared room          198\n",
            "Staten Island        Entire home/apt      176\n",
            "                     Private room         188\n",
            "                     Shared room            9\n",
            "Name: room_type, dtype: int64\n"
          ]
        }
      ]
    },
    {
      "cell_type": "code",
      "source": [
        "#Let's visualize the above insight using count plot for easy understanding.\n",
        "\n",
        "plt.figure(figsize=(10,6))\n",
        "\n",
        "plotting_roomtype = sns.countplot(x='neighbourhood_group', data = airbnbCopy, hue = 'room_type')\n",
        "\n",
        "plt.show()"
      ],
      "metadata": {
        "id": "Tn7sepcTPgSU",
        "outputId": "00070ea9-36e2-45ae-cc86-2a02a2892ab1",
        "colab": {
          "base_uri": "https://localhost:8080/",
          "height": 389
        }
      },
      "execution_count": 22,
      "outputs": [
        {
          "output_type": "display_data",
          "data": {
            "text/plain": [
              "<Figure size 720x432 with 1 Axes>"
            ],
            "image/png": "[encoded data removed]"
          },
          "metadata": {
            "needs_background": "light"
          }
        }
      ]
    },
    {
      "cell_type": "markdown",
      "source": [
        "##Analysing the hosts that are available throughout the year"
      ],
      "metadata": {
        "id": "j67ZckfiZXHT"
      }
    },
    {
      "cell_type": "code",
      "source": [
        "# Filter the data frame having the hosts available throughout the year\n",
        "\n",
        "host_available_365 = airbnbCopy[airbnbCopy['availability_365'] == 365]\n",
        "host_available_365[['host_id', 'host_name', 'neighbourhood_group', 'neighbourhood', 'availability_365']]"
      ],
      "metadata": {
        "id": "KeqU-LybZypu",
        "outputId": "c05c4a0c-f43b-4e5a-9848-50ac05e74fd9",
        "colab": {
          "base_uri": "https://localhost:8080/",
          "height": 423
        }
      },
      "execution_count": 53,
      "outputs": [
        {
          "output_type": "execute_result",
          "data": {
            "text/plain": [
              "         host_id         host_name neighbourhood_group       neighbourhood  \\\n",
              "0           2787              John            Brooklyn          Kensington   \n",
              "2           4632         Elisabeth           Manhattan              Harlem   \n",
              "36          7355                Vt            Brooklyn  Bedford-Stuyvesant   \n",
              "38         45445           Harriet            Brooklyn            Flatbush   \n",
              "97         82685           Elliott           Manhattan              Harlem   \n",
              "...          ...               ...                 ...                 ...   \n",
              "48744  223715460  Simon And Julian            Brooklyn        Williamsburg   \n",
              "48844  115491896              Will           Manhattan        West Village   \n",
              "48868  261338177             Diana            Brooklyn           Gravesend   \n",
              "48880  208514239             Melki            Brooklyn        Williamsburg   \n",
              "48887  208514239             Melki            Brooklyn        Williamsburg   \n",
              "\n",
              "       availability_365  \n",
              "0                   365  \n",
              "2                   365  \n",
              "36                  365  \n",
              "38                  365  \n",
              "97                  365  \n",
              "...                 ...  \n",
              "48744               365  \n",
              "48844               365  \n",
              "48868               365  \n",
              "48880               365  \n",
              "48887               365  \n",
              "\n",
              "[1295 rows x 5 columns]"
            ],
            "text/html": [
              "\n",
              "  <div id=\"df-b8e8e0cc-48f7-46e2-ac9d-eb8fb8a7a912\">\n",
              "    <div class=\"colab-df-container\">\n",
              "      <div>\n",
              "<style scoped>\n",
              "    .dataframe tbody tr th:only-of-type {\n",
              "        vertical-align: middle;\n",
              "    }\n",
              "\n",
              "    .dataframe tbody tr th {\n",
              "        vertical-align: top;\n",
              "    }\n",
              "\n",
              "    .dataframe thead th {\n",
              "        text-align: right;\n",
              "    }\n",
              "</style>\n",
              "<table border=\"1\" class=\"dataframe\">\n",
              "  <thead>\n",
              "    <tr style=\"text-align: right;\">\n",
              "      <th></th>\n",
              "      <th>host_id</th>\n",
              "      <th>host_name</th>\n",
              "      <th>neighbourhood_group</th>\n",
              "      <th>neighbourhood</th>\n",
              "      <th>availability_365</th>\n",
              "    </tr>\n",
              "  </thead>\n",
              "  <tbody>\n",
              "    <tr>\n",
              "      <th>0</th>\n",
              "      <td>2787</td>\n",
              "      <td>John</td>\n",
              "      <td>Brooklyn</td>\n",
              "      <td>Kensington</td>\n",
              "      <td>365</td>\n",
              "    </tr>\n",
              "    <tr>\n",
              "      <th>2</th>\n",
              "      <td>4632</td>\n",
              "      <td>Elisabeth</td>\n",
              "      <td>Manhattan</td>\n",
              "      <td>Harlem</td>\n",
              "      <td>365</td>\n",
              "    </tr>\n",
              "    <tr>\n",
              "      <th>36</th>\n",
              "      <td>7355</td>\n",
              "      <td>Vt</td>\n",
              "      <td>Brooklyn</td>\n",
              "      <td>Bedford-Stuyvesant</td>\n",
              "      <td>365</td>\n",
              "    </tr>\n",
              "    <tr>\n",
              "      <th>38</th>\n",
              "      <td>45445</td>\n",
              "      <td>Harriet</td>\n",
              "      <td>Brooklyn</td>\n",
              "      <td>Flatbush</td>\n",
              "      <td>365</td>\n",
              "    </tr>\n",
              "    <tr>\n",
              "      <th>97</th>\n",
              "      <td>82685</td>\n",
              "      <td>Elliott</td>\n",
              "      <td>Manhattan</td>\n",
              "      <td>Harlem</td>\n",
              "      <td>365</td>\n",
              "    </tr>\n",
              "    <tr>\n",
              "      <th>...</th>\n",
              "      <td>...</td>\n",
              "      <td>...</td>\n",
              "      <td>...</td>\n",
              "      <td>...</td>\n",
              "      <td>...</td>\n",
              "    </tr>\n",
              "    <tr>\n",
              "      <th>48744</th>\n",
              "      <td>223715460</td>\n",
              "      <td>Simon And Julian</td>\n",
              "      <td>Brooklyn</td>\n",
              "      <td>Williamsburg</td>\n",
              "      <td>365</td>\n",
              "    </tr>\n",
              "    <tr>\n",
              "      <th>48844</th>\n",
              "      <td>115491896</td>\n",
              "      <td>Will</td>\n",
              "      <td>Manhattan</td>\n",
              "      <td>West Village</td>\n",
              "      <td>365</td>\n",
              "    </tr>\n",
              "    <tr>\n",
              "      <th>48868</th>\n",
              "      <td>261338177</td>\n",
              "      <td>Diana</td>\n",
              "      <td>Brooklyn</td>\n",
              "      <td>Gravesend</td>\n",
              "      <td>365</td>\n",
              "    </tr>\n",
              "    <tr>\n",
              "      <th>48880</th>\n",
              "      <td>208514239</td>\n",
              "      <td>Melki</td>\n",
              "      <td>Brooklyn</td>\n",
              "      <td>Williamsburg</td>\n",
              "      <td>365</td>\n",
              "    </tr>\n",
              "    <tr>\n",
              "      <th>48887</th>\n",
              "      <td>208514239</td>\n",
              "      <td>Melki</td>\n",
              "      <td>Brooklyn</td>\n",
              "      <td>Williamsburg</td>\n",
              "      <td>365</td>\n",
              "    </tr>\n",
              "  </tbody>\n",
              "</table>\n",
              "<p>1295 rows × 5 columns</p>\n",
              "</div>\n",
              "      <button class=\"colab-df-convert\" onclick=\"convertToInteractive('df-b8e8e0cc-48f7-46e2-ac9d-eb8fb8a7a912')\"\n",
              "              title=\"Convert this dataframe to an interactive table.\"\n",
              "              style=\"display:none;\">\n",
              "        \n",
              "  <svg xmlns=\"http://www.w3.org/2000/svg\" height=\"24px\"viewBox=\"0 0 24 24\"\n",
              "       width=\"24px\">\n",
              "    <path d=\"M0 0h24v24H0V0z\" fill=\"none\"/>\n",
              "    <path d=\"M18.56 5.44l.94 2.06.94-2.06 2.06-.94-2.06-.94-.94-2.06-.94 2.06-2.06.94zm-11 1L8.5 8.5l.94-2.06 2.06-.94-2.06-.94L8.5 2.5l-.94 2.06-2.06.94zm10 10l.94 2.06.94-2.06 2.06-.94-2.06-.94-.94-2.06-.94 2.06-2.06.94z\"/><path d=\"M17.41 7.96l-1.37-1.37c-.4-.4-.92-.59-1.43-.59-.52 0-1.04.2-1.43.59L10.3 9.45l-7.72 7.72c-.78.78-.78 2.05 0 2.83L4 21.41c.39.39.9.59 1.41.59.51 0 1.02-.2 1.41-.59l7.78-7.78 2.81-2.81c.8-.78.8-2.07 0-2.86zM5.41 20L4 18.59l7.72-7.72 1.47 1.35L5.41 20z\"/>\n",
              "  </svg>\n",
              "      </button>\n",
              "      \n",
              "  <style>\n",
              "    .colab-df-container {\n",
              "      display:flex;\n",
              "      flex-wrap:wrap;\n",
              "      gap: 12px;\n",
              "    }\n",
              "\n",
              "    .colab-df-convert {\n",
              "      background-color: #E8F0FE;\n",
              "      border: none;\n",
              "      border-radius: 50%;\n",
              "      cursor: pointer;\n",
              "      display: none;\n",
              "      fill: #1967D2;\n",
              "      height: 32px;\n",
              "      padding: 0 0 0 0;\n",
              "      width: 32px;\n",
              "    }\n",
              "\n",
              "    .colab-df-convert:hover {\n",
              "      background-color: #E2EBFA;\n",
              "      box-shadow: 0px 1px 2px rgba(60, 64, 67, 0.3), 0px 1px 3px 1px rgba(60, 64, 67, 0.15);\n",
              "      fill: #174EA6;\n",
              "    }\n",
              "\n",
              "    [theme=dark] .colab-df-convert {\n",
              "      background-color: #3B4455;\n",
              "      fill: #D2E3FC;\n",
              "    }\n",
              "\n",
              "    [theme=dark] .colab-df-convert:hover {\n",
              "      background-color: #434B5C;\n",
              "      box-shadow: 0px 1px 3px 1px rgba(0, 0, 0, 0.15);\n",
              "      filter: drop-shadow(0px 1px 2px rgba(0, 0, 0, 0.3));\n",
              "      fill: #FFFFFF;\n",
              "    }\n",
              "  </style>\n",
              "\n",
              "      <script>\n",
              "        const buttonEl =\n",
              "          document.querySelector('#df-b8e8e0cc-48f7-46e2-ac9d-eb8fb8a7a912 button.colab-df-convert');\n",
              "        buttonEl.style.display =\n",
              "          google.colab.kernel.accessAllowed ? 'block' : 'none';\n",
              "\n",
              "        async function convertToInteractive(key) {\n",
              "          const element = document.querySelector('#df-b8e8e0cc-48f7-46e2-ac9d-eb8fb8a7a912');\n",
              "          const dataTable =\n",
              "            await google.colab.kernel.invokeFunction('convertToInteractive',\n",
              "                                                     [key], {});\n",
              "          if (!dataTable) return;\n",
              "\n",
              "          const docLinkHtml = 'Like what you see? Visit the ' +\n",
              "            '<a target=\"_blank\" href=https://colab.research.google.com/notebooks/data_table.ipynb>data table notebook</a>'\n",
              "            + ' to learn more about interactive tables.';\n",
              "          element.innerHTML = '';\n",
              "          dataTable['output_type'] = 'display_data';\n",
              "          await google.colab.output.renderOutput(dataTable, element);\n",
              "          const docLink = document.createElement('div');\n",
              "          docLink.innerHTML = docLinkHtml;\n",
              "          element.appendChild(docLink);\n",
              "        }\n",
              "      </script>\n",
              "    </div>\n",
              "  </div>\n",
              "  "
            ]
          },
          "metadata": {},
          "execution_count": 53
        }
      ]
    },
    {
      "cell_type": "code",
      "source": [
        "# Visualize the above data grouping under Neighbourhood group using 'Bar chart'.\n",
        "\n",
        "host_available_365_group = host_available_365.groupby(['neighbourhood_group'])['neighbourhood_group'].count().sort_values(ascending=False).plot(kind='bar', figsize=(6,6), \n",
        "                                                                                                      title = 'Hosts Available for 365 days',color='brown')\n",
        "plt.ylabel('Count')\n",
        "plt.xticks(rotation=60)\n",
        "host_available_365_group"
      ],
      "metadata": {
        "id": "jbsX05-CcDnI",
        "outputId": "db62ba67-f5bf-45d3-a16f-df010cff58c7",
        "colab": {
          "base_uri": "https://localhost:8080/",
          "height": 474
        }
      },
      "execution_count": 57,
      "outputs": [
        {
          "output_type": "execute_result",
          "data": {
            "text/plain": [
              "<matplotlib.axes._subplots.AxesSubplot at 0x7fd218a91ee0>"
            ]
          },
          "metadata": {},
          "execution_count": 57
        },
        {
          "output_type": "display_data",
          "data": {
            "text/plain": [
              "<Figure size 432x432 with 1 Axes>"
            ],
            "image/png": "[encoded data removed]"
          },
          "metadata": {
            "needs_background": "light"
          }
        }
      ]
    },
    {
      "cell_type": "code",
      "source": [],
      "metadata": {
        "id": "SZElm3xu7lYO"
      },
      "execution_count": null,
      "outputs": []
    }
  ]
}