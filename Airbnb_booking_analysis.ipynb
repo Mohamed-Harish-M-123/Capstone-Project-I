{
  "nbformat": 4,
  "nbformat_minor": 0,
  "metadata": {
    "colab": {
      "provenance": [],
      "authorship_tag": "ABX9TyPIVprb4PP9e3G75lwHnJ3C",
      "include_colab_link": true
    },
    "kernelspec": {
      "name": "python3",
      "display_name": "Python 3"
    },
    "language_info": {
      "name": "python"
    }
  },
  "cells": [
    {
      "cell_type": "markdown",
      "metadata": {
        "id": "view-in-github",
        "colab_type": "text"
      },
      "source": [
        "<a href=\"https://colab.research.google.com/github/Mohamed-Harish-M-123/Capstone-Project-I/blob/main/Airbnb_booking_analysis.ipynb\" target=\"_parent\"><img src=\"https://colab.research.google.com/assets/colab-badge.svg\" alt=\"Open In Colab\"/></a>"
      ]
    },
    {
      "cell_type": "markdown",
      "source": [
        "## Project Name: Airbnb Booking Analysis"
      ],
      "metadata": {
        "id": "ZwcsyU9vSQF6"
      }
    },
    {
      "cell_type": "markdown",
      "source": [
        "Project Type: Exploratory Data Analysis (EDA)\n",
        "\n",
        "Contribution: Individual"
      ],
      "metadata": {
        "id": "xX-UszRST-r3"
      }
    },
    {
      "cell_type": "markdown",
      "source": [
        "##Problem Statement:\n"
      ],
      "metadata": {
        "id": "5kZAmGLciSDj"
      }
    },
    {
      "cell_type": "markdown",
      "source": [
        "###To perform Exploratory Data Analysis (EDA) for the Airbnb booking dataset in order to bring out the hidden insights and to discover key understandings such as:\n",
        "\n",
        "* Which is the most and least prefered location by the guest ?\n",
        "* Which is the most prefered host with minimum price ?\n",
        "* What are the hotels and its price in the most prefered location ?\n",
        "* What is the most prefered room type ?\n",
        "* Which host has the highest_reviews per month ?\n",
        "* Find out top 5 host that has high charges for the minimum nights ?\n",
        "* Compare the number of hosts resides in 'Manhattan' and 'Brooklyn' ?\n",
        "\n",
        "###Objectives and Goals:\n",
        "\n",
        "* To perform data cleansing for the given dataset\n",
        "* To provide visualization to analyze and identify trends in the dataset.\n",
        "\n",
        "\n"
      ],
      "metadata": {
        "id": "zGXlWmBXiSDj"
      }
    }
  ]
}