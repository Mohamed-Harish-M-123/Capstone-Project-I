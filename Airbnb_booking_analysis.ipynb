{
  "nbformat": 4,
  "nbformat_minor": 0,
  "metadata": {
    "colab": {
      "provenance": [],
      "authorship_tag": "ABX9TyPZ3PfzOLi6oTQsMRHC7TAg",
      "include_colab_link": true
    },
    "kernelspec": {
      "name": "python3",
      "display_name": "Python 3"
    },
    "language_info": {
      "name": "python"
    }
  },
  "cells": [
    {
      "cell_type": "markdown",
      "metadata": {
        "id": "view-in-github",
        "colab_type": "text"
      },
      "source": [
        "<a href=\"https://colab.research.google.com/github/Mohamed-Harish-M-123/Capstone-Project-I/blob/main/Airbnb_booking_analysis.ipynb\" target=\"_parent\"><img src=\"https://colab.research.google.com/assets/colab-badge.svg\" alt=\"Open In Colab\"/></a>"
      ]
    },
    {
      "cell_type": "markdown",
      "source": [
        "## Project Name: Airbnb Booking Analysis\n",
        "\n",
        "Project Type: Exploratory Data Analysis (EDA)\n",
        "\n",
        "Contribution: Individual\n",
        "\n",
        "\n",
        "## Exploratory Data Analysis (EDA):\n",
        "Exploratory Data Analysis (EDA) is an approach to analysing data set to summarise their main characteristic, often with visual methods.\n",
        "\n",
        "Exploratory Data Analysis does two main things:\n",
        "\n",
        "1. It helps clean up a dataset.\n",
        "\n",
        "2. It gives you a better understanding of the variables and the relationships between them.\n",
        "\n",
        "\n",
        "## About Airbnb:\n",
        "Airbnb founders Joe Gebbia, Brian Chesky, and Nathan Blecharczyk developed the business in 2008. Initially, Gebbia and Chesky started off using their own place as a bed-and-breakfast to make a few extra bucks to pay rent. Airbnb does not own properties. It acts as an **intermediary between those who want to rent out space and those who are looking for space to rent.** Creating an account on Airbnb is free, and it is relatively simple. Airbnb has listings all over the map, from Savannah, Georgia, to Honolulu, Hawaii, to international listings. The service currently has more than **5.6 million listings in roughly 220 countries around the world.**\n",
        "\n",
        "\n",
        "##Problem Statement:\n",
        "\n",
        "###To perform Exploratory Data Analysis (EDA) for the Airbnb booking dataset in order to bring out the hidden insights and to discover key understandings such as:\n",
        "\n",
        "* Which is the most and least prefered location by the guest ?\n",
        "* Which is the most prefered host with minimum price ?\n",
        "* What are the hotels and its price in the most prefered location ?\n",
        "* What is the most prefered room type ?\n",
        "* Which host has the highest_reviews per month ?\n",
        "* Find out top 5 host that has high charges for the minimum nights ?\n",
        "* Compare the number of hosts resides in 'Manhattan' and 'Brooklyn' ?\n",
        "\n",
        "###Objectives and Goals:\n",
        "\n",
        "* To perform data cleansing for the given dataset\n",
        "* To provide visualization to analyze and identify trends in the dataset.\n",
        "\n",
        "\n"
      ],
      "metadata": {
        "id": "ZwcsyU9vSQF6"
      }
    },
    {
      "cell_type": "markdown",
      "source": [
        "## First let's load our dataset - Airbnb NYC 2019\n"
      ],
      "metadata": {
        "id": "5kZAmGLciSDj"
      }
    },
    {
      "cell_type": "code",
      "source": [
        "# import the required python libraries and packages for our analysis\n",
        "import pandas as pd\n",
        "import numpy as np\n",
        "import matplotlib.pyplot as plt\n",
        "import seaborn as seaborn\n",
        "%matplotlib inline\n"
      ],
      "metadata": {
        "id": "mmbOLNpsItoE"
      },
      "execution_count": 1,
      "outputs": []
    },
    {
      "cell_type": "code",
      "source": [
        "# mounting drive in the colab\n",
        "\n",
        "from google.colab import drive\n",
        "drive.mount('/content/drive')"
      ],
      "metadata": {
        "id": "dA7hjj_pO227",
        "outputId": "49eb6116-8dac-4cab-986d-145721bf3be3",
        "colab": {
          "base_uri": "https://localhost:8080/"
        }
      },
      "execution_count": 2,
      "outputs": [
        {
          "output_type": "stream",
          "name": "stdout",
          "text": [
            "Mounted at /content/drive\n"
          ]
        }
      ]
    },
    {
      "cell_type": "code",
      "source": [
        "# Let's read the dataset from the drive\n",
        "\n",
        "file_path = \"/content/drive/MyDrive/dataset/Airbnb NYC 2019.csv\"\n",
        "df = pd.read_csv(file_path)"
      ],
      "metadata": {
        "id": "v77mmcIdS4nS"
      },
      "execution_count": 5,
      "outputs": []
    },
    {
      "cell_type": "markdown",
      "source": [
        "## Let's summarize our dataset"
      ],
      "metadata": {
        "id": "s1WIYNsHZqG4"
      }
    }
  ]
}